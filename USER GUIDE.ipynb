{
 "cells": [
  {
   "cell_type": "markdown",
   "metadata": {},
   "source": [
    "# User guide (WIP)\n",
    "## Step 1: Migrate official CSV databases\n",
    "If you have not yet downloaded official TERYT databases, visit [this TERYT website](\n",
    "https://eteryt.stat.gov.pl/eTeryt/rejestr_teryt/udostepnianie_danych/baza_teryt/uzytkownicy_indywidualni/pobieranie/pliki_pelne.aspx?contrast=default) and download SIMC, TERC and ULIC databases in `.csv` format.\n",
    "\n",
    "Warning: Only `.csv` extensions and official (neither address nor statistical) versions are supported.\n",
    "\n",
    "Now, place SIMC database file in `teryt/data/SIMC`, and so on with other systems.\n",
    "Make sure there's only one file in every `teryt/data/<SYSTEM>` directory. \n",
    "\n",
    "## Step 2: Initialize TERYT systems\n",
    "All systems can be initialized as below:"
   ]
  },
  {
   "cell_type": "code",
   "execution_count": 1,
   "metadata": {},
   "outputs": [],
   "source": [
    "import teryt\n",
    "simc = teryt.Simc()  # could also be SIMC or simc\n",
    "terc = teryt.TERC()\n",
    "ulic = teryt.ulic()"
   ]
  },
  {
   "cell_type": "markdown",
   "metadata": {},
   "source": [
    "## Step 3: Usage!\n",
    "\n",
    "### Searching system entries\n",
    "To search for entries, simply use system's `System.search` method.\n",
    "For example:"
   ]
  },
  {
   "cell_type": "code",
   "execution_count": 2,
   "metadata": {},
   "outputs": [
    {
     "data": {
      "text/html": [
       "<div>\n",
       "<style scoped>\n",
       "    .dataframe tbody tr th:only-of-type {\n",
       "        vertical-align: middle;\n",
       "    }\n",
       "\n",
       "    .dataframe tbody tr th {\n",
       "        vertical-align: top;\n",
       "    }\n",
       "\n",
       "    .dataframe thead th {\n",
       "        text-align: right;\n",
       "    }\n",
       "</style>\n",
       "<table border=\"1\" class=\"dataframe\">\n",
       "  <thead>\n",
       "    <tr style=\"text-align: right;\">\n",
       "      <th></th>\n",
       "      <th>index</th>\n",
       "      <th>WOJ</th>\n",
       "      <th>POW</th>\n",
       "      <th>GMI</th>\n",
       "      <th>RODZ</th>\n",
       "      <th>NAZWA</th>\n",
       "      <th>NAZWA_DOD</th>\n",
       "      <th>STAN_NA</th>\n",
       "    </tr>\n",
       "  </thead>\n",
       "  <tbody>\n",
       "    <tr>\n",
       "      <th>0</th>\n",
       "      <td>2057</td>\n",
       "      <td>14</td>\n",
       "      <td>65</td>\n",
       "      <td>-</td>\n",
       "      <td>-</td>\n",
       "      <td>Warszawa</td>\n",
       "      <td>miasto stołeczne, na prawach powiatu</td>\n",
       "      <td>2021-01-01</td>\n",
       "    </tr>\n",
       "    <tr>\n",
       "      <th>1</th>\n",
       "      <td>2058</td>\n",
       "      <td>14</td>\n",
       "      <td>65</td>\n",
       "      <td>01</td>\n",
       "      <td>1</td>\n",
       "      <td>Warszawa</td>\n",
       "      <td>gmina miejska, miasto stołeczne</td>\n",
       "      <td>2021-01-01</td>\n",
       "    </tr>\n",
       "  </tbody>\n",
       "</table>\n",
       "</div>"
      ],
      "text/plain": [
       "   index WOJ POW GMI RODZ     NAZWA                             NAZWA_DOD  \\\n",
       "0   2057  14  65   -    -  Warszawa  miasto stołeczne, na prawach powiatu   \n",
       "1   2058  14  65  01    1  Warszawa       gmina miejska, miasto stołeczne   \n",
       "\n",
       "      STAN_NA  \n",
       "0  2021-01-01  \n",
       "1  2021-01-01  "
      ]
     },
     "execution_count": 2,
     "metadata": {},
     "output_type": "execute_result"
    }
   ],
   "source": [
    "terc.search(\"Warszawa\")"
   ]
  },
  {
   "cell_type": "markdown",
   "metadata": {},
   "source": [
    "### Search keywords\n",
    "`System.search` accepts plenty of keyword arguments for searching,\n",
    "called **fields**,  which are the source database's columns (called **roots**) representants."
   ]
  },
  {
   "cell_type": "markdown",
   "metadata": {},
   "source": [
    "#### `ULIC` secname (`str`)\n",
    "Second name of a street.\n",
    "\n",
    "Example:"
   ]
  },
  {
   "cell_type": "code",
   "execution_count": 3,
   "metadata": {
    "scrolled": true
   },
   "outputs": [
    {
     "data": {
      "text/html": [
       "<div>\n",
       "<style scoped>\n",
       "    .dataframe tbody tr th:only-of-type {\n",
       "        vertical-align: middle;\n",
       "    }\n",
       "\n",
       "    .dataframe tbody tr th {\n",
       "        vertical-align: top;\n",
       "    }\n",
       "\n",
       "    .dataframe thead th {\n",
       "        text-align: right;\n",
       "    }\n",
       "</style>\n",
       "<table border=\"1\" class=\"dataframe\">\n",
       "  <thead>\n",
       "    <tr style=\"text-align: right;\">\n",
       "      <th></th>\n",
       "      <th>index</th>\n",
       "      <th>WOJ</th>\n",
       "      <th>POW</th>\n",
       "      <th>GMI</th>\n",
       "      <th>RODZ_GMI</th>\n",
       "      <th>SYM</th>\n",
       "      <th>SYM_UL</th>\n",
       "      <th>CECHA</th>\n",
       "      <th>NAZWA_1</th>\n",
       "      <th>NAZWA_2</th>\n",
       "      <th>STAN_NA</th>\n",
       "    </tr>\n",
       "  </thead>\n",
       "  <tbody>\n",
       "    <tr>\n",
       "      <th>0</th>\n",
       "      <td>429</td>\n",
       "      <td>02</td>\n",
       "      <td>14</td>\n",
       "      <td>08</td>\n",
       "      <td>4</td>\n",
       "      <td>0987390</td>\n",
       "      <td>24145</td>\n",
       "      <td>ul.</td>\n",
       "      <td>Henryka Wiernego</td>\n",
       "      <td>Księcia</td>\n",
       "      <td>2021-02-05</td>\n",
       "    </tr>\n",
       "    <tr>\n",
       "      <th>1</th>\n",
       "      <td>3235</td>\n",
       "      <td>02</td>\n",
       "      <td>03</td>\n",
       "      <td>01</td>\n",
       "      <td>1</td>\n",
       "      <td>0954082</td>\n",
       "      <td>36208</td>\n",
       "      <td>ul.</td>\n",
       "      <td>Jana II</td>\n",
       "      <td>Księcia</td>\n",
       "      <td>2021-02-05</td>\n",
       "    </tr>\n",
       "    <tr>\n",
       "      <th>2</th>\n",
       "      <td>4199</td>\n",
       "      <td>02</td>\n",
       "      <td>64</td>\n",
       "      <td>06</td>\n",
       "      <td>9</td>\n",
       "      <td>0986952</td>\n",
       "      <td>10230</td>\n",
       "      <td>ul.</td>\n",
       "      <td>Witolda</td>\n",
       "      <td>Księcia</td>\n",
       "      <td>2021-02-05</td>\n",
       "    </tr>\n",
       "    <tr>\n",
       "      <th>3</th>\n",
       "      <td>5628</td>\n",
       "      <td>06</td>\n",
       "      <td>61</td>\n",
       "      <td>01</td>\n",
       "      <td>1</td>\n",
       "      <td>0922018</td>\n",
       "      <td>10230</td>\n",
       "      <td>ul.</td>\n",
       "      <td>Witolda</td>\n",
       "      <td>Księcia</td>\n",
       "      <td>2021-02-05</td>\n",
       "    </tr>\n",
       "    <tr>\n",
       "      <th>4</th>\n",
       "      <td>7603</td>\n",
       "      <td>04</td>\n",
       "      <td>61</td>\n",
       "      <td>01</td>\n",
       "      <td>1</td>\n",
       "      <td>0928363</td>\n",
       "      <td>10230</td>\n",
       "      <td>ul.</td>\n",
       "      <td>Witolda</td>\n",
       "      <td>Księcia</td>\n",
       "      <td>2021-02-05</td>\n",
       "    </tr>\n",
       "    <tr>\n",
       "      <th>...</th>\n",
       "      <td>...</td>\n",
       "      <td>...</td>\n",
       "      <td>...</td>\n",
       "      <td>...</td>\n",
       "      <td>...</td>\n",
       "      <td>...</td>\n",
       "      <td>...</td>\n",
       "      <td>...</td>\n",
       "      <td>...</td>\n",
       "      <td>...</td>\n",
       "      <td>...</td>\n",
       "    </tr>\n",
       "    <tr>\n",
       "      <th>124</th>\n",
       "      <td>253965</td>\n",
       "      <td>14</td>\n",
       "      <td>61</td>\n",
       "      <td>01</td>\n",
       "      <td>1</td>\n",
       "      <td>0966079</td>\n",
       "      <td>51258</td>\n",
       "      <td>rondo</td>\n",
       "      <td>Siemowita III</td>\n",
       "      <td>Księcia</td>\n",
       "      <td>2021-02-05</td>\n",
       "    </tr>\n",
       "    <tr>\n",
       "      <th>125</th>\n",
       "      <td>260928</td>\n",
       "      <td>14</td>\n",
       "      <td>18</td>\n",
       "      <td>04</td>\n",
       "      <td>4</td>\n",
       "      <td>0921438</td>\n",
       "      <td>52928</td>\n",
       "      <td>ul.</td>\n",
       "      <td>Janusza I Starego</td>\n",
       "      <td>Księcia</td>\n",
       "      <td>2021-02-05</td>\n",
       "    </tr>\n",
       "    <tr>\n",
       "      <th>126</th>\n",
       "      <td>266940</td>\n",
       "      <td>24</td>\n",
       "      <td>64</td>\n",
       "      <td>01</td>\n",
       "      <td>1</td>\n",
       "      <td>0930868</td>\n",
       "      <td>38139</td>\n",
       "      <td>ul.</td>\n",
       "      <td>Leszka Białego</td>\n",
       "      <td>Księcia</td>\n",
       "      <td>2021-02-05</td>\n",
       "    </tr>\n",
       "    <tr>\n",
       "      <th>127</th>\n",
       "      <td>268012</td>\n",
       "      <td>20</td>\n",
       "      <td>62</td>\n",
       "      <td>01</td>\n",
       "      <td>1</td>\n",
       "      <td>0957241</td>\n",
       "      <td>39268</td>\n",
       "      <td>ul.</td>\n",
       "      <td>Stanisława</td>\n",
       "      <td>Księcia</td>\n",
       "      <td>2021-02-05</td>\n",
       "    </tr>\n",
       "    <tr>\n",
       "      <th>128</th>\n",
       "      <td>280240</td>\n",
       "      <td>04</td>\n",
       "      <td>08</td>\n",
       "      <td>04</td>\n",
       "      <td>4</td>\n",
       "      <td>0985651</td>\n",
       "      <td>53409</td>\n",
       "      <td>ul.</td>\n",
       "      <td>Siemowita</td>\n",
       "      <td>księcia</td>\n",
       "      <td>2021-02-05</td>\n",
       "    </tr>\n",
       "  </tbody>\n",
       "</table>\n",
       "<p>129 rows × 11 columns</p>\n",
       "</div>"
      ],
      "text/plain": [
       "      index WOJ POW GMI RODZ_GMI      SYM SYM_UL  CECHA            NAZWA_1  \\\n",
       "0       429  02  14  08        4  0987390  24145    ul.   Henryka Wiernego   \n",
       "1      3235  02  03  01        1  0954082  36208    ul.            Jana II   \n",
       "2      4199  02  64  06        9  0986952  10230    ul.            Witolda   \n",
       "3      5628  06  61  01        1  0922018  10230    ul.            Witolda   \n",
       "4      7603  04  61  01        1  0928363  10230    ul.            Witolda   \n",
       "..      ...  ..  ..  ..      ...      ...    ...    ...                ...   \n",
       "124  253965  14  61  01        1  0966079  51258  rondo      Siemowita III   \n",
       "125  260928  14  18  04        4  0921438  52928    ul.  Janusza I Starego   \n",
       "126  266940  24  64  01        1  0930868  38139    ul.     Leszka Białego   \n",
       "127  268012  20  62  01        1  0957241  39268    ul.         Stanisława   \n",
       "128  280240  04  08  04        4  0985651  53409    ul.          Siemowita   \n",
       "\n",
       "     NAZWA_2     STAN_NA  \n",
       "0    Księcia  2021-02-05  \n",
       "1    Księcia  2021-02-05  \n",
       "2    Księcia  2021-02-05  \n",
       "3    Księcia  2021-02-05  \n",
       "4    Księcia  2021-02-05  \n",
       "..       ...         ...  \n",
       "124  Księcia  2021-02-05  \n",
       "125  Księcia  2021-02-05  \n",
       "126  Księcia  2021-02-05  \n",
       "127  Księcia  2021-02-05  \n",
       "128  księcia  2021-02-05  \n",
       "\n",
       "[129 rows x 11 columns]"
      ]
     },
     "execution_count": 3,
     "metadata": {},
     "output_type": "execute_result"
    }
   ],
   "source": [
    "k = ulic.search(secname=\"Księcia\")\n",
    "k"
   ]
  },
  {
   "cell_type": "code",
   "execution_count": 4,
   "metadata": {},
   "outputs": [
    {
     "data": {
      "text/plain": [
       "Street(\n",
       "    name='Jana II', \n",
       "    secname='Księcia', \n",
       "    terid='0203011', \n",
       "    system=ULIC, \n",
       "    voivodship=UnitLink(code='02', value='DOLNOŚLĄSKIE', index=0), \n",
       "    powiat=UnitLink(code='03', value='głogowski', index=22), \n",
       "    gmina=UnitLink(code='01', value='Głogów', index=23), \n",
       "    gmitype=SMLink(code='1', value='gmina miejska'), \n",
       "    streettype='ul.', \n",
       "    id='36208', \n",
       "    integral_id='0954082', \n",
       "    date='2021-02-05', \n",
       "    index=3235\n",
       ")"
      ]
     },
     "execution_count": 4,
     "metadata": {},
     "output_type": "execute_result"
    }
   ],
   "source": [
    "i1 = k[1]  # index 3235\n",
    "i1"
   ]
  },
  {
   "cell_type": "code",
   "execution_count": 5,
   "metadata": {},
   "outputs": [
    {
     "data": {
      "text/plain": [
       "'ul. Księcia Jana II'"
      ]
     },
     "execution_count": 5,
     "metadata": {},
     "output_type": "execute_result"
    }
   ],
   "source": [
    "i1.fullname"
   ]
  },
  {
   "cell_type": "code",
   "execution_count": 6,
   "metadata": {},
   "outputs": [
    {
     "data": {
      "text/plain": [
       "UnitLink(code='01', value='Głogów', index=23)"
      ]
     },
     "execution_count": 6,
     "metadata": {},
     "output_type": "execute_result"
    }
   ],
   "source": [
    "i1.gmina"
   ]
  },
  {
   "cell_type": "code",
   "execution_count": 7,
   "metadata": {},
   "outputs": [
    {
     "data": {
      "text/plain": [
       "Unit(\n",
       "    name='Głogów', \n",
       "    terid='0203011', \n",
       "    system=TERC, \n",
       "    voivodship=UnitLink(code='02', value='DOLNOŚLĄSKIE', index=0), \n",
       "    powiat=UnitLink(code='03', value='głogowski', index=22), \n",
       "    gmina=UnitLink(code='01', value='Głogów', index=23), \n",
       "    gmitype=SMLink(code='1', value='gmina miejska'), \n",
       "    function='gmina miejska', \n",
       "    date='2021-01-01', \n",
       "    index=23\n",
       ")"
      ]
     },
     "execution_count": 7,
     "metadata": {},
     "output_type": "execute_result"
    }
   ],
   "source": [
    "i1.gmina.as_unit"
   ]
  },
  {
   "cell_type": "code",
   "execution_count": 8,
   "metadata": {},
   "outputs": [
    {
     "data": {
      "text/plain": [
       "Unit(\n",
       "    name='głogowski', \n",
       "    terid='0203', \n",
       "    system=TERC, \n",
       "    voivodship=UnitLink(code='02', value='DOLNOŚLĄSKIE', index=0), \n",
       "    powiat=UnitLink(code='03', value='głogowski', index=22), \n",
       "    function='powiat', \n",
       "    date='2021-01-01', \n",
       "    index=22\n",
       ")"
      ]
     },
     "execution_count": 8,
     "metadata": {},
     "output_type": "execute_result"
    }
   ],
   "source": [
    "i1.gmina.as_unit.powiat.as_unit"
   ]
  },
  {
   "cell_type": "markdown",
   "metadata": {},
   "source": [
    "#### `COMMON` date (`str`)\n",
    "\"State as of\", the date in `STAN_NA` column."
   ]
  },
  {
   "cell_type": "markdown",
   "metadata": {},
   "source": [
    "#### `COMMON` name (`str`)\n",
    "Name of the searched locality, street or unit.\n",
    "\n",
    "Examples:"
   ]
  },
  {
   "cell_type": "code",
   "execution_count": 9,
   "metadata": {},
   "outputs": [
    {
     "data": {
      "text/plain": [
       "Locality(\n",
       "    name='Oś', \n",
       "    terid='1604032', \n",
       "    system=SIMC, \n",
       "    voivodship=UnitLink(code='16', value='OPOLSKIE', index=2077), \n",
       "    powiat=UnitLink(code='04', value='kluczborski', index=2107), \n",
       "    gmina=UnitLink(code='03', value='Lasowice Wielkie', index=2114), \n",
       "    gmitype=SMLink(code='2', value='gmina wiejska'), \n",
       "    loctype=SMLink(code='01', value='wieś'), \n",
       "    cnowner=SMLink(code='1', value=True), \n",
       "    id='0497791', \n",
       "    integral_id='0497791', \n",
       "    date='2021-01-01', \n",
       "    index=56979\n",
       ")"
      ]
     },
     "execution_count": 9,
     "metadata": {},
     "output_type": "execute_result"
    }
   ],
   "source": [
    "simc.search(name=\"Oś\")  # the shortest locality name in Poland"
   ]
  },
  {
   "cell_type": "markdown",
   "metadata": {},
   "source": [
    "You can also use \"match\", \"contains\", \"startswith\" and \"endswith\" name searching:"
   ]
  },
  {
   "cell_type": "code",
   "execution_count": 10,
   "metadata": {},
   "outputs": [
    {
     "data": {
      "text/plain": [
       "Locality(\n",
       "    name='Wólka Sokołowska k. Wólki Niedźwiedzkiej', \n",
       "    terid='1816115', \n",
       "    system=SIMC, \n",
       "    voivodship=UnitLink(code='18', value='PODKARPACKIE', index=2227), \n",
       "    powiat=UnitLink(code='16', value='rzeszowski', index=2407), \n",
       "    gmina=UnitLink(code='11', value='Sokołów Małopolski', index=2424), \n",
       "    gmitype=SMLink(code='5', value='obszar wiejski w gminie miejsko-wiejskiej'), \n",
       "    loctype=SMLink(code='01', value='wieś'), \n",
       "    cnowner=SMLink(code='1', value=True), \n",
       "    id='1066490', \n",
       "    integral_id='1066490', \n",
       "    date='2021-01-01', \n",
       "    index=58704\n",
       ")"
      ]
     },
     "execution_count": 10,
     "metadata": {},
     "output_type": "execute_result"
    }
   ],
   "source": [
    "simc.search(match=\".{32}\")  # the longest locality name in Poland"
   ]
  },
  {
   "cell_type": "code",
   "execution_count": 11,
   "metadata": {
    "scrolled": true
   },
   "outputs": [
    {
     "data": {
      "text/html": [
       "<div>\n",
       "<style scoped>\n",
       "    .dataframe tbody tr th:only-of-type {\n",
       "        vertical-align: middle;\n",
       "    }\n",
       "\n",
       "    .dataframe tbody tr th {\n",
       "        vertical-align: top;\n",
       "    }\n",
       "\n",
       "    .dataframe thead th {\n",
       "        text-align: right;\n",
       "    }\n",
       "</style>\n",
       "<table border=\"1\" class=\"dataframe\">\n",
       "  <thead>\n",
       "    <tr style=\"text-align: right;\">\n",
       "      <th></th>\n",
       "      <th>index</th>\n",
       "      <th>WOJ</th>\n",
       "      <th>POW</th>\n",
       "      <th>GMI</th>\n",
       "      <th>RODZ_GMI</th>\n",
       "      <th>RM</th>\n",
       "      <th>MZ</th>\n",
       "      <th>NAZWA</th>\n",
       "      <th>SYM</th>\n",
       "      <th>SYMPOD</th>\n",
       "      <th>STAN_NA</th>\n",
       "    </tr>\n",
       "  </thead>\n",
       "  <tbody>\n",
       "    <tr>\n",
       "      <th>0</th>\n",
       "      <td>19828</td>\n",
       "      <td>10</td>\n",
       "      <td>12</td>\n",
       "      <td>05</td>\n",
       "      <td>5</td>\n",
       "      <td>01</td>\n",
       "      <td>1</td>\n",
       "      <td>Pytowice</td>\n",
       "      <td>0541256</td>\n",
       "      <td>0541256</td>\n",
       "      <td>2021-01-01</td>\n",
       "    </tr>\n",
       "    <tr>\n",
       "      <th>1</th>\n",
       "      <td>29789</td>\n",
       "      <td>12</td>\n",
       "      <td>18</td>\n",
       "      <td>02</td>\n",
       "      <td>2</td>\n",
       "      <td>00</td>\n",
       "      <td>1</td>\n",
       "      <td>Pytlówka</td>\n",
       "      <td>0047600</td>\n",
       "      <td>0047579</td>\n",
       "      <td>2021-01-01</td>\n",
       "    </tr>\n",
       "    <tr>\n",
       "      <th>2</th>\n",
       "      <td>34448</td>\n",
       "      <td>12</td>\n",
       "      <td>10</td>\n",
       "      <td>09</td>\n",
       "      <td>2</td>\n",
       "      <td>00</td>\n",
       "      <td>1</td>\n",
       "      <td>Pytle</td>\n",
       "      <td>0443890</td>\n",
       "      <td>0443476</td>\n",
       "      <td>2021-01-01</td>\n",
       "    </tr>\n",
       "    <tr>\n",
       "      <th>3</th>\n",
       "      <td>35199</td>\n",
       "      <td>12</td>\n",
       "      <td>11</td>\n",
       "      <td>11</td>\n",
       "      <td>2</td>\n",
       "      <td>00</td>\n",
       "      <td>1</td>\n",
       "      <td>Pytlówka</td>\n",
       "      <td>0462491</td>\n",
       "      <td>0462249</td>\n",
       "      <td>2021-01-01</td>\n",
       "    </tr>\n",
       "    <tr>\n",
       "      <th>4</th>\n",
       "      <td>35483</td>\n",
       "      <td>12</td>\n",
       "      <td>11</td>\n",
       "      <td>05</td>\n",
       "      <td>2</td>\n",
       "      <td>00</td>\n",
       "      <td>1</td>\n",
       "      <td>Pytlowa</td>\n",
       "      <td>0429772</td>\n",
       "      <td>0429602</td>\n",
       "      <td>2021-01-01</td>\n",
       "    </tr>\n",
       "    <tr>\n",
       "      <th>5</th>\n",
       "      <td>35721</td>\n",
       "      <td>12</td>\n",
       "      <td>09</td>\n",
       "      <td>02</td>\n",
       "      <td>2</td>\n",
       "      <td>00</td>\n",
       "      <td>1</td>\n",
       "      <td>Pytlowa</td>\n",
       "      <td>0441141</td>\n",
       "      <td>0441030</td>\n",
       "      <td>2021-01-01</td>\n",
       "    </tr>\n",
       "    <tr>\n",
       "      <th>6</th>\n",
       "      <td>78045</td>\n",
       "      <td>24</td>\n",
       "      <td>02</td>\n",
       "      <td>08</td>\n",
       "      <td>2</td>\n",
       "      <td>03</td>\n",
       "      <td>1</td>\n",
       "      <td>Pytlówka</td>\n",
       "      <td>0065175</td>\n",
       "      <td>0064773</td>\n",
       "      <td>2021-01-01</td>\n",
       "    </tr>\n",
       "    <tr>\n",
       "      <th>7</th>\n",
       "      <td>84309</td>\n",
       "      <td>26</td>\n",
       "      <td>01</td>\n",
       "      <td>02</td>\n",
       "      <td>2</td>\n",
       "      <td>00</td>\n",
       "      <td>1</td>\n",
       "      <td>Pytlówka</td>\n",
       "      <td>0238285</td>\n",
       "      <td>0238279</td>\n",
       "      <td>2021-01-01</td>\n",
       "    </tr>\n",
       "  </tbody>\n",
       "</table>\n",
       "</div>"
      ],
      "text/plain": [
       "   index WOJ POW GMI RODZ_GMI  RM MZ     NAZWA      SYM   SYMPOD     STAN_NA\n",
       "0  19828  10  12  05        5  01  1  Pytowice  0541256  0541256  2021-01-01\n",
       "1  29789  12  18  02        2  00  1  Pytlówka  0047600  0047579  2021-01-01\n",
       "2  34448  12  10  09        2  00  1     Pytle  0443890  0443476  2021-01-01\n",
       "3  35199  12  11  11        2  00  1  Pytlówka  0462491  0462249  2021-01-01\n",
       "4  35483  12  11  05        2  00  1   Pytlowa  0429772  0429602  2021-01-01\n",
       "5  35721  12  09  02        2  00  1   Pytlowa  0441141  0441030  2021-01-01\n",
       "6  78045  24  02  08        2  03  1  Pytlówka  0065175  0064773  2021-01-01\n",
       "7  84309  26  01  02        2  00  1  Pytlówka  0238285  0238279  2021-01-01"
      ]
     },
     "execution_count": 11,
     "metadata": {},
     "output_type": "execute_result"
    }
   ],
   "source": [
    "simc.search(startswith=\"pyt\")"
   ]
  },
  {
   "cell_type": "markdown",
   "metadata": {},
   "source": [
    "#### `SIMC` loctype (`str`)\n",
    "Locality type."
   ]
  },
  {
   "cell_type": "code",
   "execution_count": 12,
   "metadata": {},
   "outputs": [
    {
     "data": {
      "text/plain": [
       "{'miasto': '96',\n",
       " 'delegatura': '98',\n",
       " 'dzielnica m. st. Warszawy': '95',\n",
       " 'część miasta': '99',\n",
       " 'wieś': '01',\n",
       " 'przysiółek': '03',\n",
       " 'kolonia': '02',\n",
       " 'osada': '04',\n",
       " 'osada leśna': '05',\n",
       " 'osiedle': '06',\n",
       " 'schronisko turystyczne': '07',\n",
       " 'część miejscowości': '00'}"
      ]
     },
     "execution_count": 12,
     "metadata": {},
     "output_type": "execute_result"
    }
   ],
   "source": [
    "from teryt.data import implement\n",
    "implement.SIMC.loctype_link_mgr"
   ]
  },
  {
   "cell_type": "code",
   "execution_count": 13,
   "metadata": {},
   "outputs": [
    {
     "data": {
      "text/html": [
       "<div>\n",
       "<style scoped>\n",
       "    .dataframe tbody tr th:only-of-type {\n",
       "        vertical-align: middle;\n",
       "    }\n",
       "\n",
       "    .dataframe tbody tr th {\n",
       "        vertical-align: top;\n",
       "    }\n",
       "\n",
       "    .dataframe thead th {\n",
       "        text-align: right;\n",
       "    }\n",
       "</style>\n",
       "<table border=\"1\" class=\"dataframe\">\n",
       "  <thead>\n",
       "    <tr style=\"text-align: right;\">\n",
       "      <th></th>\n",
       "    </tr>\n",
       "  </thead>\n",
       "  <tbody>\n",
       "  </tbody>\n",
       "</table>\n",
       "</div>"
      ],
      "text/plain": [
       "Empty DataFrame\n",
       "Columns: []\n",
       "Index: []"
      ]
     },
     "execution_count": 13,
     "metadata": {},
     "output_type": "execute_result"
    }
   ],
   "source": [
    "simc.search(loctype=\"schronisko turystyczne\")"
   ]
  },
  {
   "cell_type": "code",
   "execution_count": 14,
   "metadata": {},
   "outputs": [
    {
     "data": {
      "text/html": [
       "<div>\n",
       "<style scoped>\n",
       "    .dataframe tbody tr th:only-of-type {\n",
       "        vertical-align: middle;\n",
       "    }\n",
       "\n",
       "    .dataframe tbody tr th {\n",
       "        vertical-align: top;\n",
       "    }\n",
       "\n",
       "    .dataframe thead th {\n",
       "        text-align: right;\n",
       "    }\n",
       "</style>\n",
       "<table border=\"1\" class=\"dataframe\">\n",
       "  <thead>\n",
       "    <tr style=\"text-align: right;\">\n",
       "      <th></th>\n",
       "      <th>index</th>\n",
       "      <th>WOJ</th>\n",
       "      <th>POW</th>\n",
       "      <th>GMI</th>\n",
       "      <th>RODZ_GMI</th>\n",
       "      <th>RM</th>\n",
       "      <th>MZ</th>\n",
       "      <th>NAZWA</th>\n",
       "      <th>SYM</th>\n",
       "      <th>SYMPOD</th>\n",
       "      <th>STAN_NA</th>\n",
       "    </tr>\n",
       "  </thead>\n",
       "  <tbody>\n",
       "    <tr>\n",
       "      <th>0</th>\n",
       "      <td>39446</td>\n",
       "      <td>12</td>\n",
       "      <td>15</td>\n",
       "      <td>08</td>\n",
       "      <td>2</td>\n",
       "      <td>07</td>\n",
       "      <td>1</td>\n",
       "      <td>Markowe Szczawiny</td>\n",
       "      <td>0078114</td>\n",
       "      <td>0078114</td>\n",
       "      <td>2021-01-01</td>\n",
       "    </tr>\n",
       "    <tr>\n",
       "      <th>1</th>\n",
       "      <td>39450</td>\n",
       "      <td>12</td>\n",
       "      <td>17</td>\n",
       "      <td>03</td>\n",
       "      <td>2</td>\n",
       "      <td>07</td>\n",
       "      <td>1</td>\n",
       "      <td>Dolina Pięciu Stawów</td>\n",
       "      <td>0418410</td>\n",
       "      <td>0418410</td>\n",
       "      <td>2021-01-01</td>\n",
       "    </tr>\n",
       "    <tr>\n",
       "      <th>2</th>\n",
       "      <td>39451</td>\n",
       "      <td>12</td>\n",
       "      <td>17</td>\n",
       "      <td>03</td>\n",
       "      <td>2</td>\n",
       "      <td>07</td>\n",
       "      <td>1</td>\n",
       "      <td>Morskie Oko</td>\n",
       "      <td>0418432</td>\n",
       "      <td>0418432</td>\n",
       "      <td>2021-01-01</td>\n",
       "    </tr>\n",
       "    <tr>\n",
       "      <th>3</th>\n",
       "      <td>39452</td>\n",
       "      <td>12</td>\n",
       "      <td>17</td>\n",
       "      <td>03</td>\n",
       "      <td>2</td>\n",
       "      <td>07</td>\n",
       "      <td>1</td>\n",
       "      <td>Polana-Głodówka</td>\n",
       "      <td>0418449</td>\n",
       "      <td>0418449</td>\n",
       "      <td>2021-01-01</td>\n",
       "    </tr>\n",
       "    <tr>\n",
       "      <th>4</th>\n",
       "      <td>39453</td>\n",
       "      <td>12</td>\n",
       "      <td>17</td>\n",
       "      <td>03</td>\n",
       "      <td>2</td>\n",
       "      <td>07</td>\n",
       "      <td>1</td>\n",
       "      <td>Roztoka</td>\n",
       "      <td>0418455</td>\n",
       "      <td>0418455</td>\n",
       "      <td>2021-01-01</td>\n",
       "    </tr>\n",
       "    <tr>\n",
       "      <th>5</th>\n",
       "      <td>39454</td>\n",
       "      <td>12</td>\n",
       "      <td>17</td>\n",
       "      <td>03</td>\n",
       "      <td>2</td>\n",
       "      <td>07</td>\n",
       "      <td>1</td>\n",
       "      <td>Włosienica</td>\n",
       "      <td>0418478</td>\n",
       "      <td>0418478</td>\n",
       "      <td>2021-01-01</td>\n",
       "    </tr>\n",
       "    <tr>\n",
       "      <th>6</th>\n",
       "      <td>39455</td>\n",
       "      <td>12</td>\n",
       "      <td>15</td>\n",
       "      <td>04</td>\n",
       "      <td>2</td>\n",
       "      <td>07</td>\n",
       "      <td>1</td>\n",
       "      <td>Krupowa Hala</td>\n",
       "      <td>0419704</td>\n",
       "      <td>0419704</td>\n",
       "      <td>2021-01-01</td>\n",
       "    </tr>\n",
       "    <tr>\n",
       "      <th>7</th>\n",
       "      <td>39456</td>\n",
       "      <td>12</td>\n",
       "      <td>10</td>\n",
       "      <td>08</td>\n",
       "      <td>2</td>\n",
       "      <td>07</td>\n",
       "      <td>1</td>\n",
       "      <td>Łabowiec</td>\n",
       "      <td>0442873</td>\n",
       "      <td>0442873</td>\n",
       "      <td>2021-01-01</td>\n",
       "    </tr>\n",
       "    <tr>\n",
       "      <th>8</th>\n",
       "      <td>39457</td>\n",
       "      <td>12</td>\n",
       "      <td>11</td>\n",
       "      <td>09</td>\n",
       "      <td>2</td>\n",
       "      <td>07</td>\n",
       "      <td>1</td>\n",
       "      <td>Turbacz</td>\n",
       "      <td>0457432</td>\n",
       "      <td>0457432</td>\n",
       "      <td>2021-01-01</td>\n",
       "    </tr>\n",
       "    <tr>\n",
       "      <th>9</th>\n",
       "      <td>39458</td>\n",
       "      <td>12</td>\n",
       "      <td>17</td>\n",
       "      <td>04</td>\n",
       "      <td>2</td>\n",
       "      <td>07</td>\n",
       "      <td>1</td>\n",
       "      <td>Hala Pisana</td>\n",
       "      <td>0468648</td>\n",
       "      <td>0468648</td>\n",
       "      <td>2021-01-01</td>\n",
       "    </tr>\n",
       "    <tr>\n",
       "      <th>10</th>\n",
       "      <td>39459</td>\n",
       "      <td>12</td>\n",
       "      <td>17</td>\n",
       "      <td>04</td>\n",
       "      <td>2</td>\n",
       "      <td>07</td>\n",
       "      <td>1</td>\n",
       "      <td>Ornak</td>\n",
       "      <td>0468654</td>\n",
       "      <td>0468654</td>\n",
       "      <td>2021-01-01</td>\n",
       "    </tr>\n",
       "    <tr>\n",
       "      <th>11</th>\n",
       "      <td>39460</td>\n",
       "      <td>12</td>\n",
       "      <td>17</td>\n",
       "      <td>04</td>\n",
       "      <td>2</td>\n",
       "      <td>07</td>\n",
       "      <td>1</td>\n",
       "      <td>Dolina Chochołowska</td>\n",
       "      <td>0468915</td>\n",
       "      <td>0468915</td>\n",
       "      <td>2021-01-01</td>\n",
       "    </tr>\n",
       "  </tbody>\n",
       "</table>\n",
       "</div>"
      ],
      "text/plain": [
       "    index WOJ POW GMI RODZ_GMI  RM MZ                 NAZWA      SYM   SYMPOD  \\\n",
       "0   39446  12  15  08        2  07  1     Markowe Szczawiny  0078114  0078114   \n",
       "1   39450  12  17  03        2  07  1  Dolina Pięciu Stawów  0418410  0418410   \n",
       "2   39451  12  17  03        2  07  1           Morskie Oko  0418432  0418432   \n",
       "3   39452  12  17  03        2  07  1       Polana-Głodówka  0418449  0418449   \n",
       "4   39453  12  17  03        2  07  1               Roztoka  0418455  0418455   \n",
       "5   39454  12  17  03        2  07  1            Włosienica  0418478  0418478   \n",
       "6   39455  12  15  04        2  07  1          Krupowa Hala  0419704  0419704   \n",
       "7   39456  12  10  08        2  07  1              Łabowiec  0442873  0442873   \n",
       "8   39457  12  11  09        2  07  1               Turbacz  0457432  0457432   \n",
       "9   39458  12  17  04        2  07  1           Hala Pisana  0468648  0468648   \n",
       "10  39459  12  17  04        2  07  1                 Ornak  0468654  0468654   \n",
       "11  39460  12  17  04        2  07  1   Dolina Chochołowska  0468915  0468915   \n",
       "\n",
       "       STAN_NA  \n",
       "0   2021-01-01  \n",
       "1   2021-01-01  \n",
       "2   2021-01-01  \n",
       "3   2021-01-01  \n",
       "4   2021-01-01  \n",
       "5   2021-01-01  \n",
       "6   2021-01-01  \n",
       "7   2021-01-01  \n",
       "8   2021-01-01  \n",
       "9   2021-01-01  \n",
       "10  2021-01-01  \n",
       "11  2021-01-01  "
      ]
     },
     "execution_count": 14,
     "metadata": {},
     "output_type": "execute_result"
    }
   ],
   "source": [
    "simc.search(loctype=\"07\", woj=\"12\")"
   ]
  },
  {
   "cell_type": "markdown",
   "metadata": {},
   "source": [
    "#### `COMMON` gmina (`str`)\n",
    "Gmina of the searched locality, street or unit."
   ]
  },
  {
   "cell_type": "markdown",
   "metadata": {},
   "source": [
    "#### `COMMON` voivodship (`str`)\n",
    "Voivodship of the searched locality, street or unit."
   ]
  },
  {
   "cell_type": "markdown",
   "metadata": {},
   "source": [
    "#### `TERC` function (`str`)\n",
    "Unit function."
   ]
  },
  {
   "cell_type": "markdown",
   "metadata": {},
   "source": [
    "#### `ULIC` streettype (`str`)\n",
    "Street type."
   ]
  },
  {
   "cell_type": "markdown",
   "metadata": {},
   "source": [
    "#### `COMMON` powiat (`str`)\n",
    "Voivodship of the searched locality, street or unit."
   ]
  },
  {
   "cell_type": "markdown",
   "metadata": {},
   "source": [
    "#### `SIMC` cnowner (`bool`)\n",
    "States whether a locality owns a common name.\n",
    "As of 09.02, all Polish localities are \"cnowners\". Using this keyword \n",
    "may result in a kind warning of no uniqueness."
   ]
  },
  {
   "cell_type": "markdown",
   "metadata": {},
   "source": [
    "#### `SIMC, ULIC` id (`str`)\n",
    "ID of a locality or street."
   ]
  },
  {
   "cell_type": "markdown",
   "metadata": {},
   "source": [
    "#### `SIMC, ULIC` integral_id (`str`)\n",
    "Integral ID of a locality/street.\n",
    "\n",
    "**Noteworthy**: all entries with `integral_id` also have property method called `integral`, which returns an `Entry` object of integral locality of locality/street."
   ]
  },
  {
   "cell_type": "code",
   "execution_count": 15,
   "metadata": {},
   "outputs": [
    {
     "data": {
      "text/plain": [
       "Locality(\n",
       "    name='Warszawa', \n",
       "    terid='1212075', \n",
       "    system=SIMC, \n",
       "    voivodship=UnitLink(code='12', value='MAŁOPOLSKIE', index=1283), \n",
       "    powiat=UnitLink(code='12', value='olkuski', index=1460), \n",
       "    gmina=UnitLink(code='07', value='Wolbrom', index=1468), \n",
       "    gmitype=SMLink(code='5', value='obszar wiejski w gminie miejsko-wiejskiej'), \n",
       "    loctype=SMLink(code='00', value='część miejscowości'), \n",
       "    cnowner=SMLink(code='1', value=True), \n",
       "    id='0224662', \n",
       "    integral_id='0224573', \n",
       "    date='2021-01-01', \n",
       "    index=37630\n",
       ")"
      ]
     },
     "execution_count": 15,
     "metadata": {},
     "output_type": "execute_result"
    }
   ],
   "source": [
    "mpwwa = simc.search(\"Warszawa\")[1]\n",
    "mpwwa"
   ]
  },
  {
   "cell_type": "code",
   "execution_count": 16,
   "metadata": {},
   "outputs": [
    {
     "ename": "AttributeError",
     "evalue": "'DataFrame' object has no attribute 'id'",
     "output_type": "error",
     "traceback": [
      "\u001b[1;31m---------------------------------------------------------------------------\u001b[0m",
      "\u001b[1;31mAttributeError\u001b[0m                            Traceback (most recent call last)",
      "    \u001b[1;31m[... skipping hidden 1 frame]\u001b[0m\n",
      "\u001b[1;32m<ipython-input-16-3a203499b3c9>\u001b[0m in \u001b[0;36m<module>\u001b[1;34m\u001b[0m\n\u001b[1;32m----> 1\u001b[1;33m \u001b[0mmpwwa\u001b[0m\u001b[1;33m.\u001b[0m\u001b[0mintegral\u001b[0m\u001b[1;33m\u001b[0m\u001b[1;33m\u001b[0m\u001b[0m\n\u001b[0m",
      "\u001b[1;32m~\\teryt\\teryt\\core.py\u001b[0m in \u001b[0;36m__getattribute__\u001b[1;34m(self, item)\u001b[0m\n\u001b[0;32m   1573\u001b[0m             \u001b[1;32mexcept\u001b[0m \u001b[0mAttributeError\u001b[0m\u001b[1;33m:\u001b[0m\u001b[1;33m\u001b[0m\u001b[1;33m\u001b[0m\u001b[0m\n\u001b[1;32m-> 1574\u001b[1;33m                 \u001b[1;32mraise\u001b[0m \u001b[0ma\u001b[0m \u001b[1;32mfrom\u001b[0m \u001b[0ma\u001b[0m\u001b[1;33m\u001b[0m\u001b[1;33m\u001b[0m\u001b[0m\n\u001b[0m\u001b[0;32m   1575\u001b[0m \u001b[1;33m\u001b[0m\u001b[0m\n",
      "\u001b[1;32m~\\teryt\\teryt\\core.py\u001b[0m in \u001b[0;36m__getattribute__\u001b[1;34m(self, item)\u001b[0m\n\u001b[0;32m   1568\u001b[0m         \u001b[1;32mtry\u001b[0m\u001b[1;33m:\u001b[0m\u001b[1;33m\u001b[0m\u001b[1;33m\u001b[0m\u001b[0m\n\u001b[1;32m-> 1569\u001b[1;33m             \u001b[1;32mreturn\u001b[0m \u001b[0mobject\u001b[0m\u001b[1;33m.\u001b[0m\u001b[0m__getattribute__\u001b[0m\u001b[1;33m(\u001b[0m\u001b[0mself\u001b[0m\u001b[1;33m,\u001b[0m \u001b[0mitem\u001b[0m\u001b[1;33m)\u001b[0m\u001b[1;33m\u001b[0m\u001b[1;33m\u001b[0m\u001b[0m\n\u001b[0m\u001b[0;32m   1570\u001b[0m         \u001b[1;32mexcept\u001b[0m \u001b[0mAttributeError\u001b[0m \u001b[1;32mas\u001b[0m \u001b[0ma\u001b[0m\u001b[1;33m:\u001b[0m\u001b[1;33m\u001b[0m\u001b[1;33m\u001b[0m\u001b[0m\n",
      "\u001b[1;32m~\\teryt\\teryt\\core.py\u001b[0m in \u001b[0;36mintegral\u001b[1;34m(self)\u001b[0m\n\u001b[0;32m   1509\u001b[0m                 \u001b[0mintegral\u001b[0m \u001b[1;33m=\u001b[0m \u001b[0mintegral_mgr\u001b[0m\u001b[1;33m.\u001b[0m\u001b[0msearch\u001b[0m\u001b[1;33m(\u001b[0m\u001b[0mid\u001b[0m\u001b[1;33m=\u001b[0m\u001b[0mself\u001b[0m\u001b[1;33m.\u001b[0m\u001b[0mintegral_id\u001b[0m\u001b[1;33m)\u001b[0m\u001b[1;33m\u001b[0m\u001b[1;33m\u001b[0m\u001b[0m\n\u001b[1;32m-> 1510\u001b[1;33m                 return LocalityLink(\n\u001b[0m\u001b[0;32m   1511\u001b[0m                     \u001b[0mcode\u001b[0m\u001b[1;33m=\u001b[0m\u001b[0mintegral\u001b[0m\u001b[1;33m.\u001b[0m\u001b[0mid\u001b[0m\u001b[1;33m,\u001b[0m\u001b[1;33m\u001b[0m\u001b[1;33m\u001b[0m\u001b[0m\n",
      "\u001b[1;32m~\\teryt\\teryt\\core.py\u001b[0m in \u001b[0;36mintegral\u001b[1;34m(self)\u001b[0m\n\u001b[0;32m   1510\u001b[0m                 return LocalityLink(\n\u001b[1;32m-> 1511\u001b[1;33m                     \u001b[0mcode\u001b[0m\u001b[1;33m=\u001b[0m\u001b[0mintegral\u001b[0m\u001b[1;33m.\u001b[0m\u001b[0mid\u001b[0m\u001b[1;33m,\u001b[0m\u001b[1;33m\u001b[0m\u001b[1;33m\u001b[0m\u001b[0m\n\u001b[0m\u001b[0;32m   1512\u001b[0m                     \u001b[0mvalue\u001b[0m\u001b[1;33m=\u001b[0m\u001b[0mintegral\u001b[0m\u001b[1;33m.\u001b[0m\u001b[0mname\u001b[0m\u001b[1;33m,\u001b[0m\u001b[1;33m\u001b[0m\u001b[1;33m\u001b[0m\u001b[0m\n",
      "\u001b[1;32m~\\teryt\\teryt\\core.py\u001b[0m in \u001b[0;36m__getattribute__\u001b[1;34m(self, item)\u001b[0m\n\u001b[0;32m   1303\u001b[0m         \u001b[1;32mexcept\u001b[0m \u001b[0mAttributeError\u001b[0m\u001b[1;33m:\u001b[0m\u001b[1;33m\u001b[0m\u001b[1;33m\u001b[0m\u001b[0m\n\u001b[1;32m-> 1304\u001b[1;33m             \u001b[1;32mreturn\u001b[0m \u001b[0mgetattr\u001b[0m\u001b[1;33m(\u001b[0m\u001b[0mself\u001b[0m\u001b[1;33m.\u001b[0m\u001b[0mframe\u001b[0m\u001b[1;33m,\u001b[0m \u001b[0mitem\u001b[0m\u001b[1;33m)\u001b[0m\u001b[1;33m\u001b[0m\u001b[1;33m\u001b[0m\u001b[0m\n\u001b[0m\u001b[0;32m   1305\u001b[0m \u001b[1;33m\u001b[0m\u001b[0m\n",
      "\u001b[1;32m~\\anaconda3\\lib\\site-packages\\pandas\\core\\generic.py\u001b[0m in \u001b[0;36m__getattr__\u001b[1;34m(self, name)\u001b[0m\n\u001b[0;32m   5138\u001b[0m                 \u001b[1;32mreturn\u001b[0m \u001b[0mself\u001b[0m\u001b[1;33m[\u001b[0m\u001b[0mname\u001b[0m\u001b[1;33m]\u001b[0m\u001b[1;33m\u001b[0m\u001b[1;33m\u001b[0m\u001b[0m\n\u001b[1;32m-> 5139\u001b[1;33m             \u001b[1;32mreturn\u001b[0m \u001b[0mobject\u001b[0m\u001b[1;33m.\u001b[0m\u001b[0m__getattribute__\u001b[0m\u001b[1;33m(\u001b[0m\u001b[0mself\u001b[0m\u001b[1;33m,\u001b[0m \u001b[0mname\u001b[0m\u001b[1;33m)\u001b[0m\u001b[1;33m\u001b[0m\u001b[1;33m\u001b[0m\u001b[0m\n\u001b[0m\u001b[0;32m   5140\u001b[0m \u001b[1;33m\u001b[0m\u001b[0m\n",
      "\u001b[1;31mAttributeError\u001b[0m: 'DataFrame' object has no attribute 'id'",
      "\nThe above exception was the direct cause of the following exception:\n",
      "\u001b[1;31mAttributeError\u001b[0m                            Traceback (most recent call last)",
      "    \u001b[1;31m[... skipping hidden 1 frame]\u001b[0m\n",
      "\u001b[1;32m<ipython-input-16-3a203499b3c9>\u001b[0m in \u001b[0;36m<module>\u001b[1;34m\u001b[0m\n\u001b[1;32m----> 1\u001b[1;33m \u001b[0mmpwwa\u001b[0m\u001b[1;33m.\u001b[0m\u001b[0mintegral\u001b[0m\u001b[1;33m\u001b[0m\u001b[1;33m\u001b[0m\u001b[0m\n\u001b[0m",
      "\u001b[1;32m~\\teryt\\teryt\\core.py\u001b[0m in \u001b[0;36m__getattribute__\u001b[1;34m(self, item)\u001b[0m\n\u001b[0;32m   1573\u001b[0m             \u001b[1;32mexcept\u001b[0m \u001b[0mAttributeError\u001b[0m\u001b[1;33m:\u001b[0m\u001b[1;33m\u001b[0m\u001b[1;33m\u001b[0m\u001b[0m\n\u001b[1;32m-> 1574\u001b[1;33m                 \u001b[1;32mraise\u001b[0m \u001b[0ma\u001b[0m \u001b[1;32mfrom\u001b[0m \u001b[0ma\u001b[0m\u001b[1;33m\u001b[0m\u001b[1;33m\u001b[0m\u001b[0m\n\u001b[0m\u001b[0;32m   1575\u001b[0m \u001b[1;33m\u001b[0m\u001b[0m\n",
      "\u001b[1;32m~\\teryt\\teryt\\core.py\u001b[0m in \u001b[0;36m__getattribute__\u001b[1;34m(self, item)\u001b[0m\n\u001b[0;32m   1568\u001b[0m         \u001b[1;32mtry\u001b[0m\u001b[1;33m:\u001b[0m\u001b[1;33m\u001b[0m\u001b[1;33m\u001b[0m\u001b[0m\n\u001b[1;32m-> 1569\u001b[1;33m             \u001b[1;32mreturn\u001b[0m \u001b[0mobject\u001b[0m\u001b[1;33m.\u001b[0m\u001b[0m__getattribute__\u001b[0m\u001b[1;33m(\u001b[0m\u001b[0mself\u001b[0m\u001b[1;33m,\u001b[0m \u001b[0mitem\u001b[0m\u001b[1;33m)\u001b[0m\u001b[1;33m\u001b[0m\u001b[1;33m\u001b[0m\u001b[0m\n\u001b[0m\u001b[0;32m   1570\u001b[0m         \u001b[1;32mexcept\u001b[0m \u001b[0mAttributeError\u001b[0m \u001b[1;32mas\u001b[0m \u001b[0ma\u001b[0m\u001b[1;33m:\u001b[0m\u001b[1;33m\u001b[0m\u001b[1;33m\u001b[0m\u001b[0m\n",
      "\u001b[1;32m~\\teryt\\teryt\\core.py\u001b[0m in \u001b[0;36mintegral\u001b[1;34m(self)\u001b[0m\n\u001b[0;32m   1509\u001b[0m                 \u001b[0mintegral\u001b[0m \u001b[1;33m=\u001b[0m \u001b[0mintegral_mgr\u001b[0m\u001b[1;33m.\u001b[0m\u001b[0msearch\u001b[0m\u001b[1;33m(\u001b[0m\u001b[0mid\u001b[0m\u001b[1;33m=\u001b[0m\u001b[0mself\u001b[0m\u001b[1;33m.\u001b[0m\u001b[0mintegral_id\u001b[0m\u001b[1;33m)\u001b[0m\u001b[1;33m\u001b[0m\u001b[1;33m\u001b[0m\u001b[0m\n\u001b[1;32m-> 1510\u001b[1;33m                 return LocalityLink(\n\u001b[0m\u001b[0;32m   1511\u001b[0m                     \u001b[0mcode\u001b[0m\u001b[1;33m=\u001b[0m\u001b[0mintegral\u001b[0m\u001b[1;33m.\u001b[0m\u001b[0mid\u001b[0m\u001b[1;33m,\u001b[0m\u001b[1;33m\u001b[0m\u001b[1;33m\u001b[0m\u001b[0m\n",
      "\u001b[1;32m~\\teryt\\teryt\\core.py\u001b[0m in \u001b[0;36mintegral\u001b[1;34m(self)\u001b[0m\n\u001b[0;32m   1510\u001b[0m                 return LocalityLink(\n\u001b[1;32m-> 1511\u001b[1;33m                     \u001b[0mcode\u001b[0m\u001b[1;33m=\u001b[0m\u001b[0mintegral\u001b[0m\u001b[1;33m.\u001b[0m\u001b[0mid\u001b[0m\u001b[1;33m,\u001b[0m\u001b[1;33m\u001b[0m\u001b[1;33m\u001b[0m\u001b[0m\n\u001b[0m\u001b[0;32m   1512\u001b[0m                     \u001b[0mvalue\u001b[0m\u001b[1;33m=\u001b[0m\u001b[0mintegral\u001b[0m\u001b[1;33m.\u001b[0m\u001b[0mname\u001b[0m\u001b[1;33m,\u001b[0m\u001b[1;33m\u001b[0m\u001b[1;33m\u001b[0m\u001b[0m\n",
      "\u001b[1;32m~\\teryt\\teryt\\core.py\u001b[0m in \u001b[0;36m__getattribute__\u001b[1;34m(self, item)\u001b[0m\n\u001b[0;32m   1303\u001b[0m         \u001b[1;32mexcept\u001b[0m \u001b[0mAttributeError\u001b[0m\u001b[1;33m:\u001b[0m\u001b[1;33m\u001b[0m\u001b[1;33m\u001b[0m\u001b[0m\n\u001b[1;32m-> 1304\u001b[1;33m             \u001b[1;32mreturn\u001b[0m \u001b[0mgetattr\u001b[0m\u001b[1;33m(\u001b[0m\u001b[0mself\u001b[0m\u001b[1;33m.\u001b[0m\u001b[0mframe\u001b[0m\u001b[1;33m,\u001b[0m \u001b[0mitem\u001b[0m\u001b[1;33m)\u001b[0m\u001b[1;33m\u001b[0m\u001b[1;33m\u001b[0m\u001b[0m\n\u001b[0m\u001b[0;32m   1305\u001b[0m \u001b[1;33m\u001b[0m\u001b[0m\n",
      "\u001b[1;32m~\\anaconda3\\lib\\site-packages\\pandas\\core\\generic.py\u001b[0m in \u001b[0;36m__getattr__\u001b[1;34m(self, name)\u001b[0m\n\u001b[0;32m   5138\u001b[0m                 \u001b[1;32mreturn\u001b[0m \u001b[0mself\u001b[0m\u001b[1;33m[\u001b[0m\u001b[0mname\u001b[0m\u001b[1;33m]\u001b[0m\u001b[1;33m\u001b[0m\u001b[1;33m\u001b[0m\u001b[0m\n\u001b[1;32m-> 5139\u001b[1;33m             \u001b[1;32mreturn\u001b[0m \u001b[0mobject\u001b[0m\u001b[1;33m.\u001b[0m\u001b[0m__getattribute__\u001b[0m\u001b[1;33m(\u001b[0m\u001b[0mself\u001b[0m\u001b[1;33m,\u001b[0m \u001b[0mname\u001b[0m\u001b[1;33m)\u001b[0m\u001b[1;33m\u001b[0m\u001b[1;33m\u001b[0m\u001b[0m\n\u001b[0m\u001b[0;32m   5140\u001b[0m \u001b[1;33m\u001b[0m\u001b[0m\n",
      "\u001b[1;31mAttributeError\u001b[0m: 'DataFrame' object has no attribute 'id'",
      "\nThe above exception was the direct cause of the following exception:\n",
      "\u001b[1;31mAttributeError\u001b[0m                            Traceback (most recent call last)",
      "\u001b[1;32m<ipython-input-16-3a203499b3c9>\u001b[0m in \u001b[0;36m<module>\u001b[1;34m\u001b[0m\n\u001b[1;32m----> 1\u001b[1;33m \u001b[0mmpwwa\u001b[0m\u001b[1;33m.\u001b[0m\u001b[0mintegral\u001b[0m\u001b[1;33m\u001b[0m\u001b[1;33m\u001b[0m\u001b[0m\n\u001b[0m",
      "\u001b[1;32m~\\teryt\\teryt\\core.py\u001b[0m in \u001b[0;36m__getattribute__\u001b[1;34m(self, item)\u001b[0m\n\u001b[0;32m   1572\u001b[0m                 \u001b[1;32mreturn\u001b[0m \u001b[0mobject\u001b[0m\u001b[1;33m.\u001b[0m\u001b[0m__getattribute__\u001b[0m\u001b[1;33m(\u001b[0m\u001b[0mself\u001b[0m\u001b[1;33m.\u001b[0m\u001b[0msystem\u001b[0m\u001b[1;33m,\u001b[0m \u001b[0mitem\u001b[0m\u001b[1;33m)\u001b[0m\u001b[1;33m\u001b[0m\u001b[1;33m\u001b[0m\u001b[0m\n\u001b[0;32m   1573\u001b[0m             \u001b[1;32mexcept\u001b[0m \u001b[0mAttributeError\u001b[0m\u001b[1;33m:\u001b[0m\u001b[1;33m\u001b[0m\u001b[1;33m\u001b[0m\u001b[0m\n\u001b[1;32m-> 1574\u001b[1;33m                 \u001b[1;32mraise\u001b[0m \u001b[0ma\u001b[0m \u001b[1;32mfrom\u001b[0m \u001b[0ma\u001b[0m\u001b[1;33m\u001b[0m\u001b[1;33m\u001b[0m\u001b[0m\n\u001b[0m\u001b[0;32m   1575\u001b[0m \u001b[1;33m\u001b[0m\u001b[0m\n\u001b[0;32m   1576\u001b[0m     \u001b[1;32mdef\u001b[0m \u001b[0m__repr__\u001b[0m\u001b[1;33m(\u001b[0m\u001b[0mself\u001b[0m\u001b[1;33m,\u001b[0m \u001b[0mindent\u001b[0m\u001b[1;33m=\u001b[0m\u001b[1;36m4\u001b[0m\u001b[1;33m)\u001b[0m\u001b[1;33m:\u001b[0m\u001b[1;33m\u001b[0m\u001b[1;33m\u001b[0m\u001b[0m\n",
      "\u001b[1;32m~\\teryt\\teryt\\core.py\u001b[0m in \u001b[0;36m__getattribute__\u001b[1;34m(self, item)\u001b[0m\n\u001b[0;32m   1567\u001b[0m         \u001b[1;31m# Entry isn't.\u001b[0m\u001b[1;33m\u001b[0m\u001b[1;33m\u001b[0m\u001b[1;33m\u001b[0m\u001b[0m\n\u001b[0;32m   1568\u001b[0m         \u001b[1;32mtry\u001b[0m\u001b[1;33m:\u001b[0m\u001b[1;33m\u001b[0m\u001b[1;33m\u001b[0m\u001b[0m\n\u001b[1;32m-> 1569\u001b[1;33m             \u001b[1;32mreturn\u001b[0m \u001b[0mobject\u001b[0m\u001b[1;33m.\u001b[0m\u001b[0m__getattribute__\u001b[0m\u001b[1;33m(\u001b[0m\u001b[0mself\u001b[0m\u001b[1;33m,\u001b[0m \u001b[0mitem\u001b[0m\u001b[1;33m)\u001b[0m\u001b[1;33m\u001b[0m\u001b[1;33m\u001b[0m\u001b[0m\n\u001b[0m\u001b[0;32m   1570\u001b[0m         \u001b[1;32mexcept\u001b[0m \u001b[0mAttributeError\u001b[0m \u001b[1;32mas\u001b[0m \u001b[0ma\u001b[0m\u001b[1;33m:\u001b[0m\u001b[1;33m\u001b[0m\u001b[1;33m\u001b[0m\u001b[0m\n\u001b[0;32m   1571\u001b[0m             \u001b[1;32mtry\u001b[0m\u001b[1;33m:\u001b[0m\u001b[1;33m\u001b[0m\u001b[1;33m\u001b[0m\u001b[0m\n",
      "\u001b[1;32m~\\teryt\\teryt\\core.py\u001b[0m in \u001b[0;36mintegral\u001b[1;34m(self)\u001b[0m\n\u001b[0;32m   1508\u001b[0m             \u001b[1;32mwith\u001b[0m \u001b[0msimc\u001b[0m\u001b[1;33m(\u001b[0m\u001b[1;33m)\u001b[0m \u001b[1;32mas\u001b[0m \u001b[0mintegral_mgr\u001b[0m\u001b[1;33m:\u001b[0m\u001b[1;33m\u001b[0m\u001b[1;33m\u001b[0m\u001b[0m\n\u001b[0;32m   1509\u001b[0m                 \u001b[0mintegral\u001b[0m \u001b[1;33m=\u001b[0m \u001b[0mintegral_mgr\u001b[0m\u001b[1;33m.\u001b[0m\u001b[0msearch\u001b[0m\u001b[1;33m(\u001b[0m\u001b[0mid\u001b[0m\u001b[1;33m=\u001b[0m\u001b[0mself\u001b[0m\u001b[1;33m.\u001b[0m\u001b[0mintegral_id\u001b[0m\u001b[1;33m)\u001b[0m\u001b[1;33m\u001b[0m\u001b[1;33m\u001b[0m\u001b[0m\n\u001b[1;32m-> 1510\u001b[1;33m                 return LocalityLink(\n\u001b[0m\u001b[0;32m   1511\u001b[0m                     \u001b[0mcode\u001b[0m\u001b[1;33m=\u001b[0m\u001b[0mintegral\u001b[0m\u001b[1;33m.\u001b[0m\u001b[0mid\u001b[0m\u001b[1;33m,\u001b[0m\u001b[1;33m\u001b[0m\u001b[1;33m\u001b[0m\u001b[0m\n\u001b[0;32m   1512\u001b[0m                     \u001b[0mvalue\u001b[0m\u001b[1;33m=\u001b[0m\u001b[0mintegral\u001b[0m\u001b[1;33m.\u001b[0m\u001b[0mname\u001b[0m\u001b[1;33m,\u001b[0m\u001b[1;33m\u001b[0m\u001b[1;33m\u001b[0m\u001b[0m\n",
      "\u001b[1;32m~\\teryt\\teryt\\core.py\u001b[0m in \u001b[0;36mintegral\u001b[1;34m(self)\u001b[0m\n\u001b[0;32m   1509\u001b[0m                 \u001b[0mintegral\u001b[0m \u001b[1;33m=\u001b[0m \u001b[0mintegral_mgr\u001b[0m\u001b[1;33m.\u001b[0m\u001b[0msearch\u001b[0m\u001b[1;33m(\u001b[0m\u001b[0mid\u001b[0m\u001b[1;33m=\u001b[0m\u001b[0mself\u001b[0m\u001b[1;33m.\u001b[0m\u001b[0mintegral_id\u001b[0m\u001b[1;33m)\u001b[0m\u001b[1;33m\u001b[0m\u001b[1;33m\u001b[0m\u001b[0m\n\u001b[0;32m   1510\u001b[0m                 return LocalityLink(\n\u001b[1;32m-> 1511\u001b[1;33m                     \u001b[0mcode\u001b[0m\u001b[1;33m=\u001b[0m\u001b[0mintegral\u001b[0m\u001b[1;33m.\u001b[0m\u001b[0mid\u001b[0m\u001b[1;33m,\u001b[0m\u001b[1;33m\u001b[0m\u001b[1;33m\u001b[0m\u001b[0m\n\u001b[0m\u001b[0;32m   1512\u001b[0m                     \u001b[0mvalue\u001b[0m\u001b[1;33m=\u001b[0m\u001b[0mintegral\u001b[0m\u001b[1;33m.\u001b[0m\u001b[0mname\u001b[0m\u001b[1;33m,\u001b[0m\u001b[1;33m\u001b[0m\u001b[1;33m\u001b[0m\u001b[0m\n\u001b[0;32m   1513\u001b[0m                     \u001b[0mindex\u001b[0m\u001b[1;33m=\u001b[0m\u001b[0mintegral\u001b[0m\u001b[1;33m.\u001b[0m\u001b[0mindex\u001b[0m\u001b[1;33m\u001b[0m\u001b[1;33m\u001b[0m\u001b[0m\n",
      "\u001b[1;32m~\\teryt\\teryt\\core.py\u001b[0m in \u001b[0;36m__getattribute__\u001b[1;34m(self, item)\u001b[0m\n\u001b[0;32m   1302\u001b[0m             \u001b[1;32mreturn\u001b[0m \u001b[0mobject\u001b[0m\u001b[1;33m.\u001b[0m\u001b[0m__getattribute__\u001b[0m\u001b[1;33m(\u001b[0m\u001b[0mself\u001b[0m\u001b[1;33m,\u001b[0m \u001b[0mitem\u001b[0m\u001b[1;33m)\u001b[0m\u001b[1;33m\u001b[0m\u001b[1;33m\u001b[0m\u001b[0m\n\u001b[0;32m   1303\u001b[0m         \u001b[1;32mexcept\u001b[0m \u001b[0mAttributeError\u001b[0m\u001b[1;33m:\u001b[0m\u001b[1;33m\u001b[0m\u001b[1;33m\u001b[0m\u001b[0m\n\u001b[1;32m-> 1304\u001b[1;33m             \u001b[1;32mreturn\u001b[0m \u001b[0mgetattr\u001b[0m\u001b[1;33m(\u001b[0m\u001b[0mself\u001b[0m\u001b[1;33m.\u001b[0m\u001b[0mframe\u001b[0m\u001b[1;33m,\u001b[0m \u001b[0mitem\u001b[0m\u001b[1;33m)\u001b[0m\u001b[1;33m\u001b[0m\u001b[1;33m\u001b[0m\u001b[0m\n\u001b[0m\u001b[0;32m   1305\u001b[0m \u001b[1;33m\u001b[0m\u001b[0m\n\u001b[0;32m   1306\u001b[0m     \u001b[1;32mdef\u001b[0m \u001b[0m__init__\u001b[0m\u001b[1;33m(\u001b[0m\u001b[0mself\u001b[0m\u001b[1;33m,\u001b[0m \u001b[0msystem\u001b[0m\u001b[1;33m,\u001b[0m \u001b[0mframe\u001b[0m\u001b[1;33m=\u001b[0m\u001b[0mDataFrame\u001b[0m\u001b[1;33m(\u001b[0m\u001b[1;33m)\u001b[0m\u001b[1;33m)\u001b[0m\u001b[1;33m:\u001b[0m\u001b[1;33m\u001b[0m\u001b[1;33m\u001b[0m\u001b[0m\n",
      "\u001b[1;32m~\\anaconda3\\lib\\site-packages\\pandas\\core\\generic.py\u001b[0m in \u001b[0;36m__getattr__\u001b[1;34m(self, name)\u001b[0m\n\u001b[0;32m   5137\u001b[0m             \u001b[1;32mif\u001b[0m \u001b[0mself\u001b[0m\u001b[1;33m.\u001b[0m\u001b[0m_info_axis\u001b[0m\u001b[1;33m.\u001b[0m\u001b[0m_can_hold_identifiers_and_holds_name\u001b[0m\u001b[1;33m(\u001b[0m\u001b[0mname\u001b[0m\u001b[1;33m)\u001b[0m\u001b[1;33m:\u001b[0m\u001b[1;33m\u001b[0m\u001b[1;33m\u001b[0m\u001b[0m\n\u001b[0;32m   5138\u001b[0m                 \u001b[1;32mreturn\u001b[0m \u001b[0mself\u001b[0m\u001b[1;33m[\u001b[0m\u001b[0mname\u001b[0m\u001b[1;33m]\u001b[0m\u001b[1;33m\u001b[0m\u001b[1;33m\u001b[0m\u001b[0m\n\u001b[1;32m-> 5139\u001b[1;33m             \u001b[1;32mreturn\u001b[0m \u001b[0mobject\u001b[0m\u001b[1;33m.\u001b[0m\u001b[0m__getattribute__\u001b[0m\u001b[1;33m(\u001b[0m\u001b[0mself\u001b[0m\u001b[1;33m,\u001b[0m \u001b[0mname\u001b[0m\u001b[1;33m)\u001b[0m\u001b[1;33m\u001b[0m\u001b[1;33m\u001b[0m\u001b[0m\n\u001b[0m\u001b[0;32m   5140\u001b[0m \u001b[1;33m\u001b[0m\u001b[0m\n\u001b[0;32m   5141\u001b[0m     \u001b[1;32mdef\u001b[0m \u001b[0m__setattr__\u001b[0m\u001b[1;33m(\u001b[0m\u001b[0mself\u001b[0m\u001b[1;33m,\u001b[0m \u001b[0mname\u001b[0m\u001b[1;33m:\u001b[0m \u001b[0mstr\u001b[0m\u001b[1;33m,\u001b[0m \u001b[0mvalue\u001b[0m\u001b[1;33m)\u001b[0m \u001b[1;33m->\u001b[0m \u001b[1;32mNone\u001b[0m\u001b[1;33m:\u001b[0m\u001b[1;33m\u001b[0m\u001b[1;33m\u001b[0m\u001b[0m\n",
      "\u001b[1;31mAttributeError\u001b[0m: 'DataFrame' object has no attribute 'id'"
     ]
    }
   ],
   "source": [
    "mpwwa.integral"
   ]
  },
  {
   "cell_type": "markdown",
   "metadata": {},
   "source": [
    "#### `COMMON` gmitype (`str`)\n",
    "Gmina type of the searched locality, street or unit."
   ]
  },
  {
   "cell_type": "markdown",
   "metadata": {},
   "source": [
    "Column names as the above listed arguments are also acceptable.\n",
    "It means that you can pass database's columns names \n",
    "(called **root names**) instead of passing the field name.\n",
    "Fields were involved in order to unify columns of the systems' databases."
   ]
  },
  {
   "cell_type": "markdown",
   "metadata": {},
   "source": [
    "### Search results\n",
    "Result of a search returned by `System.search` is not in fact a `DataFrame` object.\n",
    "It's `Entry` or `EntryGroup`, synced with the proper fields.\n",
    "\n",
    "That's what you can do with them:"
   ]
  },
  {
   "cell_type": "code",
   "execution_count": 17,
   "metadata": {},
   "outputs": [
    {
     "data": {
      "text/plain": [
       "teryt.core.EntryGroup"
      ]
     },
     "execution_count": 17,
     "metadata": {},
     "output_type": "execute_result"
    }
   ],
   "source": [
    "results = terc.search(\"Wrocław\")\n",
    "type(results)  # let's check it's type"
   ]
  },
  {
   "cell_type": "code",
   "execution_count": 18,
   "metadata": {},
   "outputs": [
    {
     "data": {
      "text/html": [
       "<div>\n",
       "<style scoped>\n",
       "    .dataframe tbody tr th:only-of-type {\n",
       "        vertical-align: middle;\n",
       "    }\n",
       "\n",
       "    .dataframe tbody tr th {\n",
       "        vertical-align: top;\n",
       "    }\n",
       "\n",
       "    .dataframe thead th {\n",
       "        text-align: right;\n",
       "    }\n",
       "</style>\n",
       "<table border=\"1\" class=\"dataframe\">\n",
       "  <thead>\n",
       "    <tr style=\"text-align: right;\">\n",
       "      <th></th>\n",
       "      <th>index</th>\n",
       "      <th>WOJ</th>\n",
       "      <th>POW</th>\n",
       "      <th>GMI</th>\n",
       "      <th>RODZ</th>\n",
       "      <th>NAZWA</th>\n",
       "      <th>NAZWA_DOD</th>\n",
       "      <th>STAN_NA</th>\n",
       "    </tr>\n",
       "  </thead>\n",
       "  <tbody>\n",
       "    <tr>\n",
       "      <th>0</th>\n",
       "      <td>310</td>\n",
       "      <td>02</td>\n",
       "      <td>64</td>\n",
       "      <td>-</td>\n",
       "      <td>-</td>\n",
       "      <td>Wrocław</td>\n",
       "      <td>miasto na prawach powiatu</td>\n",
       "      <td>2021-01-01</td>\n",
       "    </tr>\n",
       "    <tr>\n",
       "      <th>1</th>\n",
       "      <td>311</td>\n",
       "      <td>02</td>\n",
       "      <td>64</td>\n",
       "      <td>01</td>\n",
       "      <td>1</td>\n",
       "      <td>Wrocław</td>\n",
       "      <td>gmina miejska</td>\n",
       "      <td>2021-01-01</td>\n",
       "    </tr>\n",
       "  </tbody>\n",
       "</table>\n",
       "</div>"
      ],
      "text/plain": [
       "   index WOJ POW GMI RODZ    NAZWA                  NAZWA_DOD     STAN_NA\n",
       "0    310  02  64   -    -  Wrocław  miasto na prawach powiatu  2021-01-01\n",
       "1    311  02  64  01    1  Wrocław              gmina miejska  2021-01-01"
      ]
     },
     "execution_count": 18,
     "metadata": {},
     "output_type": "execute_result"
    }
   ],
   "source": [
    "results"
   ]
  }
 ],
 "metadata": {
  "kernelspec": {
   "display_name": "Python 3",
   "language": "python",
   "name": "python3"
  },
  "language_info": {
   "codemirror_mode": {
    "name": "ipython",
    "version": 3
   },
   "file_extension": ".py",
   "mimetype": "text/x-python",
   "name": "python",
   "nbconvert_exporter": "python",
   "pygments_lexer": "ipython3",
   "version": "3.8.5"
  }
 },
 "nbformat": 4,
 "nbformat_minor": 4
}
