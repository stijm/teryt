{
 "cells": [
  {
   "cell_type": "markdown",
   "metadata": {},
   "source": [
    "# teryt\n",
    "**teryt** library – efficient search engine for TERC, SIMC and ULIC systems.\n",
    "\n",
    "# User guide (WIP)\n",
    "## Step 1: Migrate official CSV databases\n",
    "If you have not yet downloaded official TERYT databases,\n",
    "visit [this TERYT website](\n",
    "https://eteryt.stat.gov.pl/eTeryt/rejestr_teryt/udostepnianie_danych/baza_teryt/uzytkownicy_indywidualni/pobieranie/pliki_pelne.aspx?contrast=default\n",
    ") and download SIMC, TERC and ULIC databases in `.csv` format.\n",
    "\n",
    "Warning: Only `.csv` extensions and official (neither address nor statistical) versions are supported.\n",
    "\n",
    "Now, place SIMC database file in `teryt/data/SIMC`, and so on with other systems.\n",
    "Make sure there's only one file in every `teryt/data/<SYSTEM>` directory. \n",
    "\n",
    "## Step 2: Initialize TERYT systems\n",
    "All systems can be initialized as below:"
   ]
  },
  {
   "cell_type": "code",
   "execution_count": 1,
   "metadata": {},
   "outputs": [],
   "source": [
    "import teryt\n",
    "simc = teryt.Simc()  # could also be SIMC or simc\n",
    "terc = teryt.TERC()\n",
    "ulic = teryt.ulic()"
   ]
  },
  {
   "cell_type": "markdown",
   "metadata": {},
   "source": [
    "## Step 3: Usage!\n",
    "\n",
    "### Searching system entries\n",
    "To search for entries, simply use system's `System.search` method.\n",
    "For example:"
   ]
  },
  {
   "cell_type": "code",
   "execution_count": 2,
   "metadata": {},
   "outputs": [
    {
     "data": {
      "text/html": [
       "<div>\n",
       "<style scoped>\n",
       "    .dataframe tbody tr th:only-of-type {\n",
       "        vertical-align: middle;\n",
       "    }\n",
       "\n",
       "    .dataframe tbody tr th {\n",
       "        vertical-align: top;\n",
       "    }\n",
       "\n",
       "    .dataframe thead th {\n",
       "        text-align: right;\n",
       "    }\n",
       "</style>\n",
       "<table border=\"1\" class=\"dataframe\">\n",
       "  <thead>\n",
       "    <tr style=\"text-align: right;\">\n",
       "      <th></th>\n",
       "      <th>index</th>\n",
       "      <th>WOJ</th>\n",
       "      <th>POW</th>\n",
       "      <th>GMI</th>\n",
       "      <th>RODZ</th>\n",
       "      <th>NAZWA</th>\n",
       "      <th>NAZWA_DOD</th>\n",
       "      <th>STAN_NA</th>\n",
       "    </tr>\n",
       "  </thead>\n",
       "  <tbody>\n",
       "    <tr>\n",
       "      <th>0</th>\n",
       "      <td>2057</td>\n",
       "      <td>14</td>\n",
       "      <td>65</td>\n",
       "      <td>NaN</td>\n",
       "      <td>NaN</td>\n",
       "      <td>Warszawa</td>\n",
       "      <td>miasto stołeczne, na prawach powiatu</td>\n",
       "      <td>2021-01-01</td>\n",
       "    </tr>\n",
       "    <tr>\n",
       "      <th>1</th>\n",
       "      <td>2058</td>\n",
       "      <td>14</td>\n",
       "      <td>65</td>\n",
       "      <td>01</td>\n",
       "      <td>1</td>\n",
       "      <td>Warszawa</td>\n",
       "      <td>gmina miejska, miasto stołeczne</td>\n",
       "      <td>2021-01-01</td>\n",
       "    </tr>\n",
       "  </tbody>\n",
       "</table>\n",
       "</div>"
      ],
      "text/plain": [
       "   index WOJ POW  GMI RODZ     NAZWA                             NAZWA_DOD  \\\n",
       "0   2057  14  65  NaN  NaN  Warszawa  miasto stołeczne, na prawach powiatu   \n",
       "1   2058  14  65   01    1  Warszawa       gmina miejska, miasto stołeczne   \n",
       "\n",
       "      STAN_NA  \n",
       "0  2021-01-01  \n",
       "1  2021-01-01  "
      ]
     },
     "execution_count": 2,
     "metadata": {},
     "output_type": "execute_result"
    }
   ],
   "source": [
    "terc.search(\"Warszawa\")"
   ]
  },
  {
   "cell_type": "markdown",
   "metadata": {},
   "source": [
    "### Search keywords\n",
    "`System.search` accepts plenty of keyword arguments for searching,\n",
    "called **fields**,  which are the source database's columns (called **roots**) representants.\n",
    "\n",
    "#### `ULIC` secname (`str`)\n",
    "Second name of a street.\n",
    "\n",
    "Example:"
   ]
  },
  {
   "cell_type": "code",
   "execution_count": 3,
   "metadata": {},
   "outputs": [
    {
     "data": {
      "text/html": [
       "<div>\n",
       "<style scoped>\n",
       "    .dataframe tbody tr th:only-of-type {\n",
       "        vertical-align: middle;\n",
       "    }\n",
       "\n",
       "    .dataframe tbody tr th {\n",
       "        vertical-align: top;\n",
       "    }\n",
       "\n",
       "    .dataframe thead th {\n",
       "        text-align: right;\n",
       "    }\n",
       "</style>\n",
       "<table border=\"1\" class=\"dataframe\">\n",
       "  <thead>\n",
       "    <tr style=\"text-align: right;\">\n",
       "      <th></th>\n",
       "      <th>index</th>\n",
       "      <th>WOJ</th>\n",
       "      <th>POW</th>\n",
       "      <th>GMI</th>\n",
       "      <th>RODZ_GMI</th>\n",
       "      <th>SYM</th>\n",
       "      <th>SYM_UL</th>\n",
       "      <th>CECHA</th>\n",
       "      <th>NAZWA_1</th>\n",
       "      <th>NAZWA_2</th>\n",
       "      <th>STAN_NA</th>\n",
       "    </tr>\n",
       "  </thead>\n",
       "  <tbody>\n",
       "    <tr>\n",
       "      <th>0</th>\n",
       "      <td>429</td>\n",
       "      <td>02</td>\n",
       "      <td>14</td>\n",
       "      <td>08</td>\n",
       "      <td>4</td>\n",
       "      <td>0987390</td>\n",
       "      <td>24145</td>\n",
       "      <td>ul.</td>\n",
       "      <td>Henryka Wiernego</td>\n",
       "      <td>Księcia</td>\n",
       "      <td>2021-02-05</td>\n",
       "    </tr>\n",
       "    <tr>\n",
       "      <th>1</th>\n",
       "      <td>3235</td>\n",
       "      <td>02</td>\n",
       "      <td>03</td>\n",
       "      <td>01</td>\n",
       "      <td>1</td>\n",
       "      <td>0954082</td>\n",
       "      <td>36208</td>\n",
       "      <td>ul.</td>\n",
       "      <td>Jana II</td>\n",
       "      <td>Księcia</td>\n",
       "      <td>2021-02-05</td>\n",
       "    </tr>\n",
       "    <tr>\n",
       "      <th>2</th>\n",
       "      <td>4199</td>\n",
       "      <td>02</td>\n",
       "      <td>64</td>\n",
       "      <td>06</td>\n",
       "      <td>9</td>\n",
       "      <td>0986952</td>\n",
       "      <td>10230</td>\n",
       "      <td>ul.</td>\n",
       "      <td>Witolda</td>\n",
       "      <td>Księcia</td>\n",
       "      <td>2021-02-05</td>\n",
       "    </tr>\n",
       "    <tr>\n",
       "      <th>3</th>\n",
       "      <td>5628</td>\n",
       "      <td>06</td>\n",
       "      <td>61</td>\n",
       "      <td>01</td>\n",
       "      <td>1</td>\n",
       "      <td>0922018</td>\n",
       "      <td>10230</td>\n",
       "      <td>ul.</td>\n",
       "      <td>Witolda</td>\n",
       "      <td>Księcia</td>\n",
       "      <td>2021-02-05</td>\n",
       "    </tr>\n",
       "    <tr>\n",
       "      <th>4</th>\n",
       "      <td>7603</td>\n",
       "      <td>04</td>\n",
       "      <td>61</td>\n",
       "      <td>01</td>\n",
       "      <td>1</td>\n",
       "      <td>0928363</td>\n",
       "      <td>10230</td>\n",
       "      <td>ul.</td>\n",
       "      <td>Witolda</td>\n",
       "      <td>Księcia</td>\n",
       "      <td>2021-02-05</td>\n",
       "    </tr>\n",
       "    <tr>\n",
       "      <th>...</th>\n",
       "      <td>...</td>\n",
       "      <td>...</td>\n",
       "      <td>...</td>\n",
       "      <td>...</td>\n",
       "      <td>...</td>\n",
       "      <td>...</td>\n",
       "      <td>...</td>\n",
       "      <td>...</td>\n",
       "      <td>...</td>\n",
       "      <td>...</td>\n",
       "      <td>...</td>\n",
       "    </tr>\n",
       "    <tr>\n",
       "      <th>124</th>\n",
       "      <td>253965</td>\n",
       "      <td>14</td>\n",
       "      <td>61</td>\n",
       "      <td>01</td>\n",
       "      <td>1</td>\n",
       "      <td>0966079</td>\n",
       "      <td>51258</td>\n",
       "      <td>rondo</td>\n",
       "      <td>Siemowita III</td>\n",
       "      <td>Księcia</td>\n",
       "      <td>2021-02-05</td>\n",
       "    </tr>\n",
       "    <tr>\n",
       "      <th>125</th>\n",
       "      <td>260928</td>\n",
       "      <td>14</td>\n",
       "      <td>18</td>\n",
       "      <td>04</td>\n",
       "      <td>4</td>\n",
       "      <td>0921438</td>\n",
       "      <td>52928</td>\n",
       "      <td>ul.</td>\n",
       "      <td>Janusza I Starego</td>\n",
       "      <td>Księcia</td>\n",
       "      <td>2021-02-05</td>\n",
       "    </tr>\n",
       "    <tr>\n",
       "      <th>126</th>\n",
       "      <td>266940</td>\n",
       "      <td>24</td>\n",
       "      <td>64</td>\n",
       "      <td>01</td>\n",
       "      <td>1</td>\n",
       "      <td>0930868</td>\n",
       "      <td>38139</td>\n",
       "      <td>ul.</td>\n",
       "      <td>Leszka Białego</td>\n",
       "      <td>Księcia</td>\n",
       "      <td>2021-02-05</td>\n",
       "    </tr>\n",
       "    <tr>\n",
       "      <th>127</th>\n",
       "      <td>268012</td>\n",
       "      <td>20</td>\n",
       "      <td>62</td>\n",
       "      <td>01</td>\n",
       "      <td>1</td>\n",
       "      <td>0957241</td>\n",
       "      <td>39268</td>\n",
       "      <td>ul.</td>\n",
       "      <td>Stanisława</td>\n",
       "      <td>Księcia</td>\n",
       "      <td>2021-02-05</td>\n",
       "    </tr>\n",
       "    <tr>\n",
       "      <th>128</th>\n",
       "      <td>280240</td>\n",
       "      <td>04</td>\n",
       "      <td>08</td>\n",
       "      <td>04</td>\n",
       "      <td>4</td>\n",
       "      <td>0985651</td>\n",
       "      <td>53409</td>\n",
       "      <td>ul.</td>\n",
       "      <td>Siemowita</td>\n",
       "      <td>księcia</td>\n",
       "      <td>2021-02-05</td>\n",
       "    </tr>\n",
       "  </tbody>\n",
       "</table>\n",
       "<p>129 rows × 11 columns</p>\n",
       "</div>"
      ],
      "text/plain": [
       "      index WOJ POW GMI RODZ_GMI      SYM SYM_UL  CECHA            NAZWA_1  \\\n",
       "0       429  02  14  08        4  0987390  24145    ul.   Henryka Wiernego   \n",
       "1      3235  02  03  01        1  0954082  36208    ul.            Jana II   \n",
       "2      4199  02  64  06        9  0986952  10230    ul.            Witolda   \n",
       "3      5628  06  61  01        1  0922018  10230    ul.            Witolda   \n",
       "4      7603  04  61  01        1  0928363  10230    ul.            Witolda   \n",
       "..      ...  ..  ..  ..      ...      ...    ...    ...                ...   \n",
       "124  253965  14  61  01        1  0966079  51258  rondo      Siemowita III   \n",
       "125  260928  14  18  04        4  0921438  52928    ul.  Janusza I Starego   \n",
       "126  266940  24  64  01        1  0930868  38139    ul.     Leszka Białego   \n",
       "127  268012  20  62  01        1  0957241  39268    ul.         Stanisława   \n",
       "128  280240  04  08  04        4  0985651  53409    ul.          Siemowita   \n",
       "\n",
       "     NAZWA_2     STAN_NA  \n",
       "0    Księcia  2021-02-05  \n",
       "1    Księcia  2021-02-05  \n",
       "2    Księcia  2021-02-05  \n",
       "3    Księcia  2021-02-05  \n",
       "4    Księcia  2021-02-05  \n",
       "..       ...         ...  \n",
       "124  Księcia  2021-02-05  \n",
       "125  Księcia  2021-02-05  \n",
       "126  Księcia  2021-02-05  \n",
       "127  Księcia  2021-02-05  \n",
       "128  księcia  2021-02-05  \n",
       "\n",
       "[129 rows x 11 columns]"
      ]
     },
     "execution_count": 3,
     "metadata": {},
     "output_type": "execute_result"
    }
   ],
   "source": [
    "k = ulic.search(secname=\"Księcia\")\n",
    "k"
   ]
  },
  {
   "cell_type": "code",
   "execution_count": 4,
   "metadata": {},
   "outputs": [
    {
     "data": {
      "text/plain": [
       "Street(\n",
       "    name='Jana II', \n",
       "    secname='Księcia', \n",
       "    terid='0203011', \n",
       "    system=ULIC, \n",
       "    voivodship=UnitLink(code='02', value='DOLNOŚLĄSKIE', index=0), \n",
       "    powiat=UnitLink(code='03', value='głogowski', index=22), \n",
       "    gmina=UnitLink(code='01', value='Głogów', index=23), \n",
       "    gmitype=Link(code='1', value='gmina miejska'), \n",
       "    streettype='ul.', \n",
       "    id='36208', \n",
       "    integral_id='0954082', \n",
       "    date='2021-02-05', \n",
       "    index=3235\n",
       ")"
      ]
     },
     "execution_count": 4,
     "metadata": {},
     "output_type": "execute_result"
    }
   ],
   "source": [
    "i1 = k.get_entry(1)  # index 3235\n",
    "i1"
   ]
  },
  {
   "cell_type": "code",
   "execution_count": 5,
   "metadata": {},
   "outputs": [
    {
     "data": {
      "text/plain": [
       "'ul. Księcia Jana II'"
      ]
     },
     "execution_count": 5,
     "metadata": {},
     "output_type": "execute_result"
    }
   ],
   "source": [
    "i1.fullname"
   ]
  },
  {
   "cell_type": "code",
   "execution_count": 6,
   "metadata": {},
   "outputs": [
    {
     "data": {
      "text/plain": [
       "UnitLink(code='01', value='Głogów', index=23)"
      ]
     },
     "execution_count": 6,
     "metadata": {},
     "output_type": "execute_result"
    }
   ],
   "source": [
    "i1.gmina"
   ]
  },
  {
   "cell_type": "code",
   "execution_count": 7,
   "metadata": {},
   "outputs": [
    {
     "data": {
      "text/plain": [
       "Unit(\n",
       "    name='Głogów', \n",
       "    terid='0203011', \n",
       "    system=TERC, \n",
       "    voivodship=UnitLink(code='02', value='DOLNOŚLĄSKIE', index=0), \n",
       "    powiat=UnitLink(code='03', value='głogowski', index=22), \n",
       "    gmina=UnitLink(code='01', value='Głogów', index=23), \n",
       "    gmitype=Link(code='1', value='gmina miejska'), \n",
       "    function='gmina miejska', \n",
       "    date='2021-01-01', \n",
       "    index=23\n",
       ")"
      ]
     },
     "execution_count": 7,
     "metadata": {},
     "output_type": "execute_result"
    }
   ],
   "source": [
    "i1.gmina.as_unit"
   ]
  },
  {
   "cell_type": "code",
   "execution_count": 8,
   "metadata": {},
   "outputs": [
    {
     "data": {
      "text/plain": [
       "Unit(\n",
       "    name='głogowski', \n",
       "    terid='0203', \n",
       "    system=TERC, \n",
       "    voivodship=UnitLink(code='02', value='DOLNOŚLĄSKIE', index=0), \n",
       "    powiat=UnitLink(code='03', value='głogowski', index=22), \n",
       "    function='powiat', \n",
       "    date='2021-01-01', \n",
       "    index=22\n",
       ")"
      ]
     },
     "execution_count": 8,
     "metadata": {},
     "output_type": "execute_result"
    }
   ],
   "source": [
    "i1.gmina.as_unit.powiat.as_unit"
   ]
  },
  {
   "cell_type": "markdown",
   "metadata": {},
   "source": [
    "#### `COMMON` date (`str`)\n",
    "\"State as of\", the date in `STAN_NA` column.\n",
    "\n",
    "#### `COMMON` name (`str`)\n",
    "Name of the searched locality, street or unit.\n",
    "\n",
    "Examples:"
   ]
  },
  {
   "cell_type": "code",
   "execution_count": 9,
   "metadata": {},
   "outputs": [
    {
     "data": {
      "text/plain": [
       "Locality(\n",
       "    name='Oś', \n",
       "    terid='1604032', \n",
       "    system=SIMC, \n",
       "    voivodship=UnitLink(code='16', value='OPOLSKIE', index=2077), \n",
       "    powiat=UnitLink(code='04', value='kluczborski', index=2107), \n",
       "    gmina=UnitLink(code='03', value='Lasowice Wielkie', index=2114), \n",
       "    gmitype=Link(code='2', value='gmina wiejska'), \n",
       "    loctype=Link(code='01', value='wieś'), \n",
       "    cnowner=Link(code='1', value=True), \n",
       "    id='0497791', \n",
       "    integral_id='0497791', \n",
       "    date='2021-01-01', \n",
       "    index=56979\n",
       ")"
      ]
     },
     "execution_count": 9,
     "metadata": {},
     "output_type": "execute_result"
    }
   ],
   "source": [
    "simc.search(name=\"Oś\")"
   ]
  },
  {
   "cell_type": "markdown",
   "metadata": {},
   "source": [
    "You can also use \"match\", \"contains\", \"startswith\" and \"endswith\" name searching:"
   ]
  },
  {
   "cell_type": "code",
   "execution_count": 11,
   "metadata": {},
   "outputs": [
    {
     "data": {
      "text/html": [
       "<div>\n",
       "<style scoped>\n",
       "    .dataframe tbody tr th:only-of-type {\n",
       "        vertical-align: middle;\n",
       "    }\n",
       "\n",
       "    .dataframe tbody tr th {\n",
       "        vertical-align: top;\n",
       "    }\n",
       "\n",
       "    .dataframe thead th {\n",
       "        text-align: right;\n",
       "    }\n",
       "</style>\n",
       "<table border=\"1\" class=\"dataframe\">\n",
       "  <thead>\n",
       "    <tr style=\"text-align: right;\">\n",
       "      <th></th>\n",
       "      <th>index</th>\n",
       "      <th>WOJ</th>\n",
       "      <th>POW</th>\n",
       "      <th>GMI</th>\n",
       "      <th>RODZ_GMI</th>\n",
       "      <th>RM</th>\n",
       "      <th>MZ</th>\n",
       "      <th>NAZWA</th>\n",
       "      <th>SYM</th>\n",
       "      <th>SYMPOD</th>\n",
       "      <th>STAN_NA</th>\n",
       "    </tr>\n",
       "  </thead>\n",
       "  <tbody>\n",
       "    <tr>\n",
       "      <th>0</th>\n",
       "      <td>13140</td>\n",
       "      <td>06</td>\n",
       "      <td>06</td>\n",
       "      <td>01</td>\n",
       "      <td>1</td>\n",
       "      <td>99</td>\n",
       "      <td>1</td>\n",
       "      <td>Krakowskie Przedmieście-Kolonia</td>\n",
       "      <td>0930118</td>\n",
       "      <td>0930070</td>\n",
       "      <td>2021-01-01</td>\n",
       "    </tr>\n",
       "    <tr>\n",
       "      <th>1</th>\n",
       "      <td>58704</td>\n",
       "      <td>18</td>\n",
       "      <td>16</td>\n",
       "      <td>11</td>\n",
       "      <td>5</td>\n",
       "      <td>01</td>\n",
       "      <td>1</td>\n",
       "      <td>Wólka Sokołowska k. Wólki Niedźwiedzkiej</td>\n",
       "      <td>1066490</td>\n",
       "      <td>1066490</td>\n",
       "      <td>2021-01-01</td>\n",
       "    </tr>\n",
       "    <tr>\n",
       "      <th>2</th>\n",
       "      <td>86411</td>\n",
       "      <td>26</td>\n",
       "      <td>10</td>\n",
       "      <td>04</td>\n",
       "      <td>2</td>\n",
       "      <td>05</td>\n",
       "      <td>1</td>\n",
       "      <td>Leśniczówka Skarżysko Kościelne</td>\n",
       "      <td>0992823</td>\n",
       "      <td>0252954</td>\n",
       "      <td>2021-01-01</td>\n",
       "    </tr>\n",
       "    <tr>\n",
       "      <th>3</th>\n",
       "      <td>97619</td>\n",
       "      <td>30</td>\n",
       "      <td>02</td>\n",
       "      <td>02</td>\n",
       "      <td>2</td>\n",
       "      <td>00</td>\n",
       "      <td>1</td>\n",
       "      <td>Kuźnica Czarnkowska-Wybudowanie</td>\n",
       "      <td>1016138</td>\n",
       "      <td>0525062</td>\n",
       "      <td>2021-01-01</td>\n",
       "    </tr>\n",
       "  </tbody>\n",
       "</table>\n",
       "</div>"
      ],
      "text/plain": [
       "   index WOJ POW GMI RODZ_GMI  RM MZ  \\\n",
       "0  13140  06  06  01        1  99  1   \n",
       "1  58704  18  16  11        5  01  1   \n",
       "2  86411  26  10  04        2  05  1   \n",
       "3  97619  30  02  02        2  00  1   \n",
       "\n",
       "                                      NAZWA      SYM   SYMPOD     STAN_NA  \n",
       "0           Krakowskie Przedmieście-Kolonia  0930118  0930070  2021-01-01  \n",
       "1  Wólka Sokołowska k. Wólki Niedźwiedzkiej  1066490  1066490  2021-01-01  \n",
       "2           Leśniczówka Skarżysko Kościelne  0992823  0252954  2021-01-01  \n",
       "3           Kuźnica Czarnkowska-Wybudowanie  1016138  0525062  2021-01-01  "
      ]
     },
     "execution_count": 11,
     "metadata": {},
     "output_type": "execute_result"
    }
   ],
   "source": [
    "simc.search(match=\".{31}\")"
   ]
  },
  {
   "cell_type": "markdown",
   "metadata": {},
   "source": [
    "\n",
    "#### `SIMC` loctype (`str`)\n",
    "Locality type.\n",
    "\n",
    "#### `COMMON` gmina (`str`)\n",
    "Gmina of the searched locality, street or unit.\n",
    "\n",
    "#### `COMMON` voivodship (`str`)\n",
    "Voivodship of the searched locality, street or unit.\n",
    "\n",
    "#### `TERC` function (`str`)\n",
    "Unit function.\n",
    "\n",
    "#### `ULIC` streettype (`str`)\n",
    "Street type.\n",
    "\n",
    "#### `COMMON` powiat (`str`)\n",
    "Voivodship of the searched locality, street or unit.\n",
    "\n",
    "#### `SIMC` cnowner (`bool`)\n",
    "States whether a locality owns a common name.\n",
    "As of 09.02, all Polish localities are \"cnowners\". Using this keyword \n",
    "may result in a kind warning of no uniqueness.\n",
    "\n",
    "#### `SIMC, ULIC` id (`str`)\n",
    "ID of a locality or street.\n",
    "\n",
    "#### `SIMC, ULIC` integral_id (`str`)\n",
    "Integral ID of a locality/street.\n",
    "\n",
    "#### `COMMON` gmitype (`str`)\n",
    "Gmina type of the searched locality, street or unit.\n",
    "\n",
    "----\n",
    "\n",
    "Column names as the above listed arguments are also acceptable.\n",
    "It means that you can pass database's columns names \n",
    "(called **root names**) instead of passing the field name.\n",
    "Fields were involved in order to unify columns of the systems' databases.\n",
    "\n",
    "### Search results\n",
    "Results of a search returned from `System.search` are not in fact DataFrame.\n",
    "It's `Entry` or `EntryGroup`, synced with fields.\n",
    "\n",
    "That's what you can do with them:\n",
    "\n",
    "\n"
   ]
  },
  {
   "cell_type": "code",
   "execution_count": null,
   "metadata": {},
   "outputs": [],
   "source": []
  }
 ],
 "metadata": {
  "kernelspec": {
   "display_name": "Python 3",
   "language": "python",
   "name": "python3"
  },
  "language_info": {
   "codemirror_mode": {
    "name": "ipython",
    "version": 3
   },
   "file_extension": ".py",
   "mimetype": "text/x-python",
   "name": "python",
   "nbconvert_exporter": "python",
   "pygments_lexer": "ipython3",
   "version": "3.8.5"
  }
 },
 "nbformat": 4,
 "nbformat_minor": 4
}
